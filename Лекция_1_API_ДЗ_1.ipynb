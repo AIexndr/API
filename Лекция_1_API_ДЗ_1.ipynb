{
  "nbformat": 4,
  "nbformat_minor": 0,
  "metadata": {
    "colab": {
      "name": "Лекция -1 API ДЗ--1",
      "provenance": [],
      "authorship_tag": "ABX9TyN/21xWx0G4bHvGdEQQQJX8",
      "include_colab_link": true
    },
    "kernelspec": {
      "name": "python3",
      "display_name": "Python 3"
    },
    "language_info": {
      "name": "python"
    }
  },
  "cells": [
    {
      "cell_type": "markdown",
      "metadata": {
        "id": "view-in-github",
        "colab_type": "text"
      },
      "source": [
        "<a href=\"https://colab.research.google.com/github/AIexndr/API/blob/main/%D0%9B%D0%B5%D0%BA%D1%86%D0%B8%D1%8F_1_API_%D0%94%D0%97_1.ipynb\" target=\"_parent\"><img src=\"https://colab.research.google.com/assets/colab-badge.svg\" alt=\"Open In Colab\"/></a>"
      ]
    },
    {
      "cell_type": "markdown",
      "metadata": {
        "id": "pmo4r2__gTTR"
      },
      "source": [
        "Cписок репозиториев   на  Github для  пользователя AIexndr"
      ]
    },
    {
      "cell_type": "code",
      "metadata": {
        "colab": {
          "base_uri": "https://localhost:8080/"
        },
        "id": "yr-QXzZugDoK",
        "outputId": "a682151a-c497-430c-8a27-2ebec647ca3c"
      },
      "source": [
        "from pprint import pprint\n",
        "import requests\n",
        "import json\n",
        "class UserRepos:\n",
        "    \"\"\"deal with public repos of specified user\"\"\"\n",
        "    \n",
        "    def __init__(self):\n",
        "        pass\n",
        "    \n",
        "    def get_data(self, username):\n",
        "        main_url = 'https://api.github.com'\n",
        "        api_get_repos = '/users/' + str(username) + '/repos'\n",
        "        header={'Accept':'application/vnd.github.mercy-preview+json'}\n",
        "        response = requests.get(main_url+api_get_repos,headers=header)\n",
        "        if response.ok:\n",
        "            data = json.loads(response.text)\n",
        "        return data\n",
        "    \n",
        "    def save(self, username):\n",
        "        with open(f'{username}_repos.json', 'w', encoding='utf-8') as f:\n",
        "            json.dump(self.get_data(username), f, ensure_ascii=False, indent=4)\n",
        "    \n",
        "    def show(self, username, N=None):\n",
        "        data = self.get_data(username)\n",
        "        len_data = len(data)\n",
        "        \n",
        "        if len_data > 0:\n",
        "            if N and N <= len_data:\n",
        "                end_data = N\n",
        "            else:\n",
        "                end_data = len_data\n",
        "\n",
        "            for i in range(end_data):\n",
        "              print(\"Project Number:\",i+1)\n",
        "              print(\"Project Name:\",data[i]['name'])\n",
        "              print(\"Project URL:\",data[i]['svn_url'],\"\\n\")    \n",
        "        else:\n",
        "            print(\" Репозиториев нет\")\n",
        "\n",
        "name = 'AIexndr'\n",
        "repos = UserRepos()\n",
        "repos.show(name, 3)"
      ],
      "execution_count": 1,
      "outputs": [
        {
          "output_type": "stream",
          "text": [
            "Project Number: 1\n",
            "Project Name: API\n",
            "Project URL: https://github.com/AIexndr/API \n",
            "\n"
          ],
          "name": "stdout"
        }
      ]
    }
  ]
}