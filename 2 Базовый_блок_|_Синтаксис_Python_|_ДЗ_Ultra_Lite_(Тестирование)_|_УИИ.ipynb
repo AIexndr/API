{
  "nbformat": 4,
  "nbformat_minor": 0,
  "metadata": {
    "colab": {
      "name": "Базовый блок | Синтаксис Python | ДЗ Ultra Lite (Тестирование) | УИИ",
      "provenance": [],
      "collapsed_sections": [],
      "include_colab_link": true
    },
    "kernelspec": {
      "name": "python3",
      "display_name": "Python 3"
    },
    "language_info": {
      "name": "python"
    },
    "widgets": {
      "application/vnd.jupyter.widget-state+json": {
        "c6da322361e04abcbd3cea1d0a5b82cb": {
          "model_module": "@jupyter-widgets/controls",
          "model_name": "TextModel",
          "model_module_version": "1.5.0",
          "state": {
            "_view_name": "TextView",
            "style": "IPY_MODEL_aab9ee03e6da4e7ca8efc109683ad25c",
            "_dom_classes": [],
            "description": "Введите ваш логин (email) на учебной платформе:",
            "_model_name": "TextModel",
            "placeholder": "login@login.com",
            "_view_module": "@jupyter-widgets/controls",
            "_model_module_version": "1.5.0",
            "value": "a15@mail.ru",
            "_view_count": null,
            "disabled": false,
            "_view_module_version": "1.5.0",
            "continuous_update": true,
            "description_tooltip": null,
            "_model_module": "@jupyter-widgets/controls",
            "layout": "IPY_MODEL_416ef88fa076465bbb6be9ac56f4bea1"
          }
        },
        "aab9ee03e6da4e7ca8efc109683ad25c": {
          "model_module": "@jupyter-widgets/controls",
          "model_name": "DescriptionStyleModel",
          "model_module_version": "1.5.0",
          "state": {
            "_view_name": "StyleView",
            "_model_name": "DescriptionStyleModel",
            "description_width": "initial",
            "_view_module": "@jupyter-widgets/base",
            "_model_module_version": "1.5.0",
            "_view_count": null,
            "_view_module_version": "1.2.0",
            "_model_module": "@jupyter-widgets/controls"
          }
        },
        "416ef88fa076465bbb6be9ac56f4bea1": {
          "model_module": "@jupyter-widgets/base",
          "model_name": "LayoutModel",
          "model_module_version": "1.2.0",
          "state": {
            "_view_name": "LayoutView",
            "grid_template_rows": null,
            "right": null,
            "justify_content": null,
            "_view_module": "@jupyter-widgets/base",
            "overflow": null,
            "_model_module_version": "1.2.0",
            "_view_count": null,
            "flex_flow": null,
            "width": "600px",
            "min_width": null,
            "border": null,
            "align_items": null,
            "bottom": null,
            "_model_module": "@jupyter-widgets/base",
            "top": null,
            "grid_column": null,
            "overflow_y": null,
            "overflow_x": null,
            "grid_auto_flow": null,
            "grid_area": null,
            "grid_template_columns": null,
            "flex": null,
            "_model_name": "LayoutModel",
            "justify_items": null,
            "grid_row": null,
            "max_height": null,
            "align_content": null,
            "visibility": null,
            "align_self": null,
            "height": null,
            "min_height": null,
            "padding": null,
            "grid_auto_rows": null,
            "grid_gap": null,
            "max_width": null,
            "order": null,
            "_view_module_version": "1.2.0",
            "grid_template_areas": null,
            "object_position": null,
            "object_fit": null,
            "grid_auto_columns": null,
            "margin": null,
            "display": null,
            "left": null
          }
        },
        "5dc1139f1c5f430db0b6445605fd3091": {
          "model_module": "@jupyter-widgets/controls",
          "model_name": "ButtonModel",
          "model_module_version": "1.5.0",
          "state": {
            "_view_name": "ButtonView",
            "style": "IPY_MODEL_3a3bfc7d1a1c4d97b623776593046e9b",
            "_dom_classes": [],
            "description": "Приступить",
            "_model_name": "ButtonModel",
            "button_style": "success",
            "_view_module": "@jupyter-widgets/controls",
            "_model_module_version": "1.5.0",
            "tooltip": "Приступить",
            "_view_count": null,
            "disabled": true,
            "_view_module_version": "1.5.0",
            "layout": "IPY_MODEL_b6fe323482c34c5b8c5b1a01eeb25862",
            "_model_module": "@jupyter-widgets/controls",
            "icon": "pencil"
          }
        },
        "3a3bfc7d1a1c4d97b623776593046e9b": {
          "model_module": "@jupyter-widgets/controls",
          "model_name": "ButtonStyleModel",
          "model_module_version": "1.5.0",
          "state": {
            "_view_name": "StyleView",
            "_model_name": "ButtonStyleModel",
            "_view_module": "@jupyter-widgets/base",
            "_model_module_version": "1.5.0",
            "_view_count": null,
            "button_color": null,
            "font_weight": "",
            "_view_module_version": "1.2.0",
            "_model_module": "@jupyter-widgets/controls"
          }
        },
        "b6fe323482c34c5b8c5b1a01eeb25862": {
          "model_module": "@jupyter-widgets/base",
          "model_name": "LayoutModel",
          "model_module_version": "1.2.0",
          "state": {
            "_view_name": "LayoutView",
            "grid_template_rows": null,
            "right": null,
            "justify_content": null,
            "_view_module": "@jupyter-widgets/base",
            "overflow": null,
            "_model_module_version": "1.2.0",
            "_view_count": null,
            "flex_flow": null,
            "width": null,
            "min_width": null,
            "border": null,
            "align_items": null,
            "bottom": null,
            "_model_module": "@jupyter-widgets/base",
            "top": null,
            "grid_column": null,
            "overflow_y": null,
            "overflow_x": null,
            "grid_auto_flow": null,
            "grid_area": null,
            "grid_template_columns": null,
            "flex": null,
            "_model_name": "LayoutModel",
            "justify_items": null,
            "grid_row": null,
            "max_height": null,
            "align_content": null,
            "visibility": null,
            "align_self": null,
            "height": null,
            "min_height": null,
            "padding": null,
            "grid_auto_rows": null,
            "grid_gap": null,
            "max_width": null,
            "order": null,
            "_view_module_version": "1.2.0",
            "grid_template_areas": null,
            "object_position": null,
            "object_fit": null,
            "grid_auto_columns": null,
            "margin": null,
            "display": null,
            "left": null
          }
        },
        "f1d1175cbf744df7b11500e3ec6bcba0": {
          "model_module": "@jupyter-widgets/controls",
          "model_name": "ToggleButtonsModel",
          "model_module_version": "1.5.0",
          "state": {
            "_options_labels": [
              "a",
              "b",
              "c",
              "d"
            ],
            "_view_name": "ToggleButtonsView",
            "style": "IPY_MODEL_86840f4f165c4a19b4c8a7c93a97a1d0",
            "_dom_classes": [],
            "description": "",
            "_model_name": "ToggleButtonsModel",
            "tooltips": [
              "'дробные числа",
              " 'целые числа",
              " 'символьные данные",
              " 'True или False'"
            ],
            "index": null,
            "button_style": "",
            "_view_module": "@jupyter-widgets/controls",
            "_model_module_version": "1.5.0",
            "_view_count": null,
            "disabled": false,
            "_view_module_version": "1.5.0",
            "icons": [],
            "description_tooltip": null,
            "_model_module": "@jupyter-widgets/controls",
            "layout": "IPY_MODEL_ef1520104b984593b174c3e3e511dddd"
          }
        },
        "86840f4f165c4a19b4c8a7c93a97a1d0": {
          "model_module": "@jupyter-widgets/controls",
          "model_name": "ToggleButtonsStyleModel",
          "model_module_version": "1.5.0",
          "state": {
            "_view_name": "StyleView",
            "button_width": "",
            "_model_name": "ToggleButtonsStyleModel",
            "description_width": "",
            "_view_module": "@jupyter-widgets/base",
            "_model_module_version": "1.5.0",
            "_view_count": null,
            "font_weight": "",
            "_view_module_version": "1.2.0",
            "_model_module": "@jupyter-widgets/controls"
          }
        },
        "ef1520104b984593b174c3e3e511dddd": {
          "model_module": "@jupyter-widgets/base",
          "model_name": "LayoutModel",
          "model_module_version": "1.2.0",
          "state": {
            "_view_name": "LayoutView",
            "grid_template_rows": null,
            "right": null,
            "justify_content": null,
            "_view_module": "@jupyter-widgets/base",
            "overflow": null,
            "_model_module_version": "1.2.0",
            "_view_count": null,
            "flex_flow": null,
            "width": null,
            "min_width": null,
            "border": null,
            "align_items": null,
            "bottom": null,
            "_model_module": "@jupyter-widgets/base",
            "top": null,
            "grid_column": null,
            "overflow_y": null,
            "overflow_x": null,
            "grid_auto_flow": null,
            "grid_area": null,
            "grid_template_columns": null,
            "flex": null,
            "_model_name": "LayoutModel",
            "justify_items": null,
            "grid_row": null,
            "max_height": null,
            "align_content": null,
            "visibility": null,
            "align_self": null,
            "height": null,
            "min_height": null,
            "padding": null,
            "grid_auto_rows": null,
            "grid_gap": null,
            "max_width": null,
            "order": null,
            "_view_module_version": "1.2.0",
            "grid_template_areas": null,
            "object_position": null,
            "object_fit": null,
            "grid_auto_columns": null,
            "margin": null,
            "display": null,
            "left": null
          }
        },
        "2d7c00c37bf84373b49437566cfddeba": {
          "model_module": "@jupyter-widgets/controls",
          "model_name": "ToggleButtonsModel",
          "model_module_version": "1.5.0",
          "state": {
            "_options_labels": [
              "a",
              "b",
              "c",
              "d"
            ],
            "_view_name": "ToggleButtonsView",
            "style": "IPY_MODEL_f7aa50be06e24b0b82dc0c0cc856706a",
            "_dom_classes": [],
            "description": "",
            "_model_name": "ToggleButtonsModel",
            "tooltips": [
              "'qwerty",
              " '_value",
              " '21_years",
              " 'ngjfdhdyeld'"
            ],
            "index": null,
            "button_style": "",
            "_view_module": "@jupyter-widgets/controls",
            "_model_module_version": "1.5.0",
            "_view_count": null,
            "disabled": false,
            "_view_module_version": "1.5.0",
            "icons": [],
            "description_tooltip": null,
            "_model_module": "@jupyter-widgets/controls",
            "layout": "IPY_MODEL_0cbb170367fa4c22a62856e25ccb2391"
          }
        },
        "f7aa50be06e24b0b82dc0c0cc856706a": {
          "model_module": "@jupyter-widgets/controls",
          "model_name": "ToggleButtonsStyleModel",
          "model_module_version": "1.5.0",
          "state": {
            "_view_name": "StyleView",
            "button_width": "",
            "_model_name": "ToggleButtonsStyleModel",
            "description_width": "",
            "_view_module": "@jupyter-widgets/base",
            "_model_module_version": "1.5.0",
            "_view_count": null,
            "font_weight": "",
            "_view_module_version": "1.2.0",
            "_model_module": "@jupyter-widgets/controls"
          }
        },
        "0cbb170367fa4c22a62856e25ccb2391": {
          "model_module": "@jupyter-widgets/base",
          "model_name": "LayoutModel",
          "model_module_version": "1.2.0",
          "state": {
            "_view_name": "LayoutView",
            "grid_template_rows": null,
            "right": null,
            "justify_content": null,
            "_view_module": "@jupyter-widgets/base",
            "overflow": null,
            "_model_module_version": "1.2.0",
            "_view_count": null,
            "flex_flow": null,
            "width": null,
            "min_width": null,
            "border": null,
            "align_items": null,
            "bottom": null,
            "_model_module": "@jupyter-widgets/base",
            "top": null,
            "grid_column": null,
            "overflow_y": null,
            "overflow_x": null,
            "grid_auto_flow": null,
            "grid_area": null,
            "grid_template_columns": null,
            "flex": null,
            "_model_name": "LayoutModel",
            "justify_items": null,
            "grid_row": null,
            "max_height": null,
            "align_content": null,
            "visibility": null,
            "align_self": null,
            "height": null,
            "min_height": null,
            "padding": null,
            "grid_auto_rows": null,
            "grid_gap": null,
            "max_width": null,
            "order": null,
            "_view_module_version": "1.2.0",
            "grid_template_areas": null,
            "object_position": null,
            "object_fit": null,
            "grid_auto_columns": null,
            "margin": null,
            "display": null,
            "left": null
          }
        },
        "a3df45a21e24402197781f0205b0ebda": {
          "model_module": "@jupyter-widgets/controls",
          "model_name": "ToggleButtonsModel",
          "model_module_version": "1.5.0",
          "state": {
            "_options_labels": [
              "a",
              "b",
              "c",
              "d"
            ],
            "_view_name": "ToggleButtonsView",
            "style": "IPY_MODEL_2e72bcbe0f4c414a8aa8d33b6ef233c6",
            "_dom_classes": [],
            "description": "",
            "_model_name": "ToggleButtonsModel",
            "tooltips": [
              "'.pop()",
              " '.remove()",
              " '.plus()",
              " '.append()'"
            ],
            "index": null,
            "button_style": "",
            "_view_module": "@jupyter-widgets/controls",
            "_model_module_version": "1.5.0",
            "_view_count": null,
            "disabled": false,
            "_view_module_version": "1.5.0",
            "icons": [],
            "description_tooltip": null,
            "_model_module": "@jupyter-widgets/controls",
            "layout": "IPY_MODEL_518452edb7cf4d06b4aee5b51bde296a"
          }
        },
        "2e72bcbe0f4c414a8aa8d33b6ef233c6": {
          "model_module": "@jupyter-widgets/controls",
          "model_name": "ToggleButtonsStyleModel",
          "model_module_version": "1.5.0",
          "state": {
            "_view_name": "StyleView",
            "button_width": "",
            "_model_name": "ToggleButtonsStyleModel",
            "description_width": "",
            "_view_module": "@jupyter-widgets/base",
            "_model_module_version": "1.5.0",
            "_view_count": null,
            "font_weight": "",
            "_view_module_version": "1.2.0",
            "_model_module": "@jupyter-widgets/controls"
          }
        },
        "518452edb7cf4d06b4aee5b51bde296a": {
          "model_module": "@jupyter-widgets/base",
          "model_name": "LayoutModel",
          "model_module_version": "1.2.0",
          "state": {
            "_view_name": "LayoutView",
            "grid_template_rows": null,
            "right": null,
            "justify_content": null,
            "_view_module": "@jupyter-widgets/base",
            "overflow": null,
            "_model_module_version": "1.2.0",
            "_view_count": null,
            "flex_flow": null,
            "width": null,
            "min_width": null,
            "border": null,
            "align_items": null,
            "bottom": null,
            "_model_module": "@jupyter-widgets/base",
            "top": null,
            "grid_column": null,
            "overflow_y": null,
            "overflow_x": null,
            "grid_auto_flow": null,
            "grid_area": null,
            "grid_template_columns": null,
            "flex": null,
            "_model_name": "LayoutModel",
            "justify_items": null,
            "grid_row": null,
            "max_height": null,
            "align_content": null,
            "visibility": null,
            "align_self": null,
            "height": null,
            "min_height": null,
            "padding": null,
            "grid_auto_rows": null,
            "grid_gap": null,
            "max_width": null,
            "order": null,
            "_view_module_version": "1.2.0",
            "grid_template_areas": null,
            "object_position": null,
            "object_fit": null,
            "grid_auto_columns": null,
            "margin": null,
            "display": null,
            "left": null
          }
        },
        "420a808b08054d1c91f2ec7ac8c52051": {
          "model_module": "@jupyter-widgets/controls",
          "model_name": "ToggleButtonsModel",
          "model_module_version": "1.5.0",
          "state": {
            "_options_labels": [
              "a",
              "b",
              "c",
              "d"
            ],
            "_view_name": "ToggleButtonsView",
            "style": "IPY_MODEL_35048200f08b422eae2c960f372b7ec3",
            "_dom_classes": [],
            "description": "",
            "_model_name": "ToggleButtonsModel",
            "tooltips": [
              "'my_dict=()",
              " 'my_dict=[]",
              " 'my_dict={}",
              " 'my_dict=\"\"'"
            ],
            "index": null,
            "button_style": "",
            "_view_module": "@jupyter-widgets/controls",
            "_model_module_version": "1.5.0",
            "_view_count": null,
            "disabled": false,
            "_view_module_version": "1.5.0",
            "icons": [],
            "description_tooltip": null,
            "_model_module": "@jupyter-widgets/controls",
            "layout": "IPY_MODEL_e1e6e939985b4dd9bfb1423faea0ad64"
          }
        },
        "35048200f08b422eae2c960f372b7ec3": {
          "model_module": "@jupyter-widgets/controls",
          "model_name": "ToggleButtonsStyleModel",
          "model_module_version": "1.5.0",
          "state": {
            "_view_name": "StyleView",
            "button_width": "",
            "_model_name": "ToggleButtonsStyleModel",
            "description_width": "",
            "_view_module": "@jupyter-widgets/base",
            "_model_module_version": "1.5.0",
            "_view_count": null,
            "font_weight": "",
            "_view_module_version": "1.2.0",
            "_model_module": "@jupyter-widgets/controls"
          }
        },
        "e1e6e939985b4dd9bfb1423faea0ad64": {
          "model_module": "@jupyter-widgets/base",
          "model_name": "LayoutModel",
          "model_module_version": "1.2.0",
          "state": {
            "_view_name": "LayoutView",
            "grid_template_rows": null,
            "right": null,
            "justify_content": null,
            "_view_module": "@jupyter-widgets/base",
            "overflow": null,
            "_model_module_version": "1.2.0",
            "_view_count": null,
            "flex_flow": null,
            "width": null,
            "min_width": null,
            "border": null,
            "align_items": null,
            "bottom": null,
            "_model_module": "@jupyter-widgets/base",
            "top": null,
            "grid_column": null,
            "overflow_y": null,
            "overflow_x": null,
            "grid_auto_flow": null,
            "grid_area": null,
            "grid_template_columns": null,
            "flex": null,
            "_model_name": "LayoutModel",
            "justify_items": null,
            "grid_row": null,
            "max_height": null,
            "align_content": null,
            "visibility": null,
            "align_self": null,
            "height": null,
            "min_height": null,
            "padding": null,
            "grid_auto_rows": null,
            "grid_gap": null,
            "max_width": null,
            "order": null,
            "_view_module_version": "1.2.0",
            "grid_template_areas": null,
            "object_position": null,
            "object_fit": null,
            "grid_auto_columns": null,
            "margin": null,
            "display": null,
            "left": null
          }
        },
        "eb660da2d726404ba310ec953483daac": {
          "model_module": "@jupyter-widgets/controls",
          "model_name": "ToggleButtonsModel",
          "model_module_version": "1.5.0",
          "state": {
            "_options_labels": [
              "a",
              "b",
              "c",
              "d"
            ],
            "_view_name": "ToggleButtonsView",
            "style": "IPY_MODEL_09b6582b945544cba9f6f611dd4b0685",
            "_dom_classes": [],
            "description": "",
            "_model_name": "ToggleButtonsModel",
            "tooltips": [
              "'4",
              " '5",
              " '6",
              " '1'"
            ],
            "index": null,
            "button_style": "",
            "_view_module": "@jupyter-widgets/controls",
            "_model_module_version": "1.5.0",
            "_view_count": null,
            "disabled": false,
            "_view_module_version": "1.5.0",
            "icons": [],
            "description_tooltip": null,
            "_model_module": "@jupyter-widgets/controls",
            "layout": "IPY_MODEL_31d57bf43bf348cc855d29aca75ea0bb"
          }
        },
        "09b6582b945544cba9f6f611dd4b0685": {
          "model_module": "@jupyter-widgets/controls",
          "model_name": "ToggleButtonsStyleModel",
          "model_module_version": "1.5.0",
          "state": {
            "_view_name": "StyleView",
            "button_width": "",
            "_model_name": "ToggleButtonsStyleModel",
            "description_width": "",
            "_view_module": "@jupyter-widgets/base",
            "_model_module_version": "1.5.0",
            "_view_count": null,
            "font_weight": "",
            "_view_module_version": "1.2.0",
            "_model_module": "@jupyter-widgets/controls"
          }
        },
        "31d57bf43bf348cc855d29aca75ea0bb": {
          "model_module": "@jupyter-widgets/base",
          "model_name": "LayoutModel",
          "model_module_version": "1.2.0",
          "state": {
            "_view_name": "LayoutView",
            "grid_template_rows": null,
            "right": null,
            "justify_content": null,
            "_view_module": "@jupyter-widgets/base",
            "overflow": null,
            "_model_module_version": "1.2.0",
            "_view_count": null,
            "flex_flow": null,
            "width": null,
            "min_width": null,
            "border": null,
            "align_items": null,
            "bottom": null,
            "_model_module": "@jupyter-widgets/base",
            "top": null,
            "grid_column": null,
            "overflow_y": null,
            "overflow_x": null,
            "grid_auto_flow": null,
            "grid_area": null,
            "grid_template_columns": null,
            "flex": null,
            "_model_name": "LayoutModel",
            "justify_items": null,
            "grid_row": null,
            "max_height": null,
            "align_content": null,
            "visibility": null,
            "align_self": null,
            "height": null,
            "min_height": null,
            "padding": null,
            "grid_auto_rows": null,
            "grid_gap": null,
            "max_width": null,
            "order": null,
            "_view_module_version": "1.2.0",
            "grid_template_areas": null,
            "object_position": null,
            "object_fit": null,
            "grid_auto_columns": null,
            "margin": null,
            "display": null,
            "left": null
          }
        },
        "90a6ce0f177841e98065004ed1e0cf7d": {
          "model_module": "@jupyter-widgets/controls",
          "model_name": "ToggleButtonsModel",
          "model_module_version": "1.5.0",
          "state": {
            "_options_labels": [
              "a",
              "b",
              "c",
              "d"
            ],
            "_view_name": "ToggleButtonsView",
            "style": "IPY_MODEL_5da110ed0e1641818e3b49d83485cbb5",
            "_dom_classes": [],
            "description": "",
            "_model_name": "ToggleButtonsModel",
            "tooltips": [
              "'Просит пользователя ввести информацию с клавиатуры",
              " 'Выводит информацию на экран",
              " 'Создает список печатных символов",
              " 'Создает цикл'"
            ],
            "index": null,
            "button_style": "",
            "_view_module": "@jupyter-widgets/controls",
            "_model_module_version": "1.5.0",
            "_view_count": null,
            "disabled": false,
            "_view_module_version": "1.5.0",
            "icons": [],
            "description_tooltip": null,
            "_model_module": "@jupyter-widgets/controls",
            "layout": "IPY_MODEL_13c5313bcfeb46128e6d38171fa9bf8c"
          }
        },
        "5da110ed0e1641818e3b49d83485cbb5": {
          "model_module": "@jupyter-widgets/controls",
          "model_name": "ToggleButtonsStyleModel",
          "model_module_version": "1.5.0",
          "state": {
            "_view_name": "StyleView",
            "button_width": "",
            "_model_name": "ToggleButtonsStyleModel",
            "description_width": "",
            "_view_module": "@jupyter-widgets/base",
            "_model_module_version": "1.5.0",
            "_view_count": null,
            "font_weight": "",
            "_view_module_version": "1.2.0",
            "_model_module": "@jupyter-widgets/controls"
          }
        },
        "13c5313bcfeb46128e6d38171fa9bf8c": {
          "model_module": "@jupyter-widgets/base",
          "model_name": "LayoutModel",
          "model_module_version": "1.2.0",
          "state": {
            "_view_name": "LayoutView",
            "grid_template_rows": null,
            "right": null,
            "justify_content": null,
            "_view_module": "@jupyter-widgets/base",
            "overflow": null,
            "_model_module_version": "1.2.0",
            "_view_count": null,
            "flex_flow": null,
            "width": null,
            "min_width": null,
            "border": null,
            "align_items": null,
            "bottom": null,
            "_model_module": "@jupyter-widgets/base",
            "top": null,
            "grid_column": null,
            "overflow_y": null,
            "overflow_x": null,
            "grid_auto_flow": null,
            "grid_area": null,
            "grid_template_columns": null,
            "flex": null,
            "_model_name": "LayoutModel",
            "justify_items": null,
            "grid_row": null,
            "max_height": null,
            "align_content": null,
            "visibility": null,
            "align_self": null,
            "height": null,
            "min_height": null,
            "padding": null,
            "grid_auto_rows": null,
            "grid_gap": null,
            "max_width": null,
            "order": null,
            "_view_module_version": "1.2.0",
            "grid_template_areas": null,
            "object_position": null,
            "object_fit": null,
            "grid_auto_columns": null,
            "margin": null,
            "display": null,
            "left": null
          }
        },
        "3106abb587924568a74e5b07e5949db1": {
          "model_module": "@jupyter-widgets/controls",
          "model_name": "ToggleButtonsModel",
          "model_module_version": "1.5.0",
          "state": {
            "_options_labels": [
              "a",
              "b",
              "c",
              "d"
            ],
            "_view_name": "ToggleButtonsView",
            "style": "IPY_MODEL_60f08433a32a4d01a7a54b9f0fa16059",
            "_dom_classes": [],
            "description": "",
            "_model_name": "ToggleButtonsModel",
            "tooltips": [
              "'/",
              " '*",
              " '%",
              " '^'"
            ],
            "index": null,
            "button_style": "",
            "_view_module": "@jupyter-widgets/controls",
            "_model_module_version": "1.5.0",
            "_view_count": null,
            "disabled": false,
            "_view_module_version": "1.5.0",
            "icons": [],
            "description_tooltip": null,
            "_model_module": "@jupyter-widgets/controls",
            "layout": "IPY_MODEL_7cf619af3c224176862db4e83840930d"
          }
        },
        "60f08433a32a4d01a7a54b9f0fa16059": {
          "model_module": "@jupyter-widgets/controls",
          "model_name": "ToggleButtonsStyleModel",
          "model_module_version": "1.5.0",
          "state": {
            "_view_name": "StyleView",
            "button_width": "",
            "_model_name": "ToggleButtonsStyleModel",
            "description_width": "",
            "_view_module": "@jupyter-widgets/base",
            "_model_module_version": "1.5.0",
            "_view_count": null,
            "font_weight": "",
            "_view_module_version": "1.2.0",
            "_model_module": "@jupyter-widgets/controls"
          }
        },
        "7cf619af3c224176862db4e83840930d": {
          "model_module": "@jupyter-widgets/base",
          "model_name": "LayoutModel",
          "model_module_version": "1.2.0",
          "state": {
            "_view_name": "LayoutView",
            "grid_template_rows": null,
            "right": null,
            "justify_content": null,
            "_view_module": "@jupyter-widgets/base",
            "overflow": null,
            "_model_module_version": "1.2.0",
            "_view_count": null,
            "flex_flow": null,
            "width": null,
            "min_width": null,
            "border": null,
            "align_items": null,
            "bottom": null,
            "_model_module": "@jupyter-widgets/base",
            "top": null,
            "grid_column": null,
            "overflow_y": null,
            "overflow_x": null,
            "grid_auto_flow": null,
            "grid_area": null,
            "grid_template_columns": null,
            "flex": null,
            "_model_name": "LayoutModel",
            "justify_items": null,
            "grid_row": null,
            "max_height": null,
            "align_content": null,
            "visibility": null,
            "align_self": null,
            "height": null,
            "min_height": null,
            "padding": null,
            "grid_auto_rows": null,
            "grid_gap": null,
            "max_width": null,
            "order": null,
            "_view_module_version": "1.2.0",
            "grid_template_areas": null,
            "object_position": null,
            "object_fit": null,
            "grid_auto_columns": null,
            "margin": null,
            "display": null,
            "left": null
          }
        },
        "4792a815e7074ff9a145039bfea75009": {
          "model_module": "@jupyter-widgets/controls",
          "model_name": "ToggleButtonsModel",
          "model_module_version": "1.5.0",
          "state": {
            "_options_labels": [
              "a",
              "b",
              "c",
              "d"
            ],
            "_view_name": "ToggleButtonsView",
            "style": "IPY_MODEL_64c5753a327243e1b9f29489bd86553c",
            "_dom_classes": [],
            "description": "",
            "_model_name": "ToggleButtonsModel",
            "tooltips": [
              "'0",
              " 'True",
              " '10",
              " 'False'"
            ],
            "index": null,
            "button_style": "",
            "_view_module": "@jupyter-widgets/controls",
            "_model_module_version": "1.5.0",
            "_view_count": null,
            "disabled": false,
            "_view_module_version": "1.5.0",
            "icons": [],
            "description_tooltip": null,
            "_model_module": "@jupyter-widgets/controls",
            "layout": "IPY_MODEL_6fdc36f16cd341eda31317a8930de11e"
          }
        },
        "64c5753a327243e1b9f29489bd86553c": {
          "model_module": "@jupyter-widgets/controls",
          "model_name": "ToggleButtonsStyleModel",
          "model_module_version": "1.5.0",
          "state": {
            "_view_name": "StyleView",
            "button_width": "",
            "_model_name": "ToggleButtonsStyleModel",
            "description_width": "",
            "_view_module": "@jupyter-widgets/base",
            "_model_module_version": "1.5.0",
            "_view_count": null,
            "font_weight": "",
            "_view_module_version": "1.2.0",
            "_model_module": "@jupyter-widgets/controls"
          }
        },
        "6fdc36f16cd341eda31317a8930de11e": {
          "model_module": "@jupyter-widgets/base",
          "model_name": "LayoutModel",
          "model_module_version": "1.2.0",
          "state": {
            "_view_name": "LayoutView",
            "grid_template_rows": null,
            "right": null,
            "justify_content": null,
            "_view_module": "@jupyter-widgets/base",
            "overflow": null,
            "_model_module_version": "1.2.0",
            "_view_count": null,
            "flex_flow": null,
            "width": null,
            "min_width": null,
            "border": null,
            "align_items": null,
            "bottom": null,
            "_model_module": "@jupyter-widgets/base",
            "top": null,
            "grid_column": null,
            "overflow_y": null,
            "overflow_x": null,
            "grid_auto_flow": null,
            "grid_area": null,
            "grid_template_columns": null,
            "flex": null,
            "_model_name": "LayoutModel",
            "justify_items": null,
            "grid_row": null,
            "max_height": null,
            "align_content": null,
            "visibility": null,
            "align_self": null,
            "height": null,
            "min_height": null,
            "padding": null,
            "grid_auto_rows": null,
            "grid_gap": null,
            "max_width": null,
            "order": null,
            "_view_module_version": "1.2.0",
            "grid_template_areas": null,
            "object_position": null,
            "object_fit": null,
            "grid_auto_columns": null,
            "margin": null,
            "display": null,
            "left": null
          }
        },
        "d0bf1c139795479f80b38a3e01e59368": {
          "model_module": "@jupyter-widgets/controls",
          "model_name": "ToggleButtonsModel",
          "model_module_version": "1.5.0",
          "state": {
            "_options_labels": [
              "a",
              "b",
              "c",
              "d"
            ],
            "_view_name": "ToggleButtonsView",
            "style": "IPY_MODEL_4c142cf582b444b38178030d85f736e6",
            "_dom_classes": [],
            "description": "",
            "_model_name": "ToggleButtonsModel",
            "tooltips": [
              "'Можно в любом случае",
              " 'Можно, но только значение последнего элемента",
              " 'Нельзя",
              " 'Можно, но только на значение того же самого типа данных'"
            ],
            "index": null,
            "button_style": "",
            "_view_module": "@jupyter-widgets/controls",
            "_model_module_version": "1.5.0",
            "_view_count": null,
            "disabled": false,
            "_view_module_version": "1.5.0",
            "icons": [],
            "description_tooltip": null,
            "_model_module": "@jupyter-widgets/controls",
            "layout": "IPY_MODEL_1607d48469f74f0d81a3efc83925793a"
          }
        },
        "4c142cf582b444b38178030d85f736e6": {
          "model_module": "@jupyter-widgets/controls",
          "model_name": "ToggleButtonsStyleModel",
          "model_module_version": "1.5.0",
          "state": {
            "_view_name": "StyleView",
            "button_width": "",
            "_model_name": "ToggleButtonsStyleModel",
            "description_width": "",
            "_view_module": "@jupyter-widgets/base",
            "_model_module_version": "1.5.0",
            "_view_count": null,
            "font_weight": "",
            "_view_module_version": "1.2.0",
            "_model_module": "@jupyter-widgets/controls"
          }
        },
        "1607d48469f74f0d81a3efc83925793a": {
          "model_module": "@jupyter-widgets/base",
          "model_name": "LayoutModel",
          "model_module_version": "1.2.0",
          "state": {
            "_view_name": "LayoutView",
            "grid_template_rows": null,
            "right": null,
            "justify_content": null,
            "_view_module": "@jupyter-widgets/base",
            "overflow": null,
            "_model_module_version": "1.2.0",
            "_view_count": null,
            "flex_flow": null,
            "width": null,
            "min_width": null,
            "border": null,
            "align_items": null,
            "bottom": null,
            "_model_module": "@jupyter-widgets/base",
            "top": null,
            "grid_column": null,
            "overflow_y": null,
            "overflow_x": null,
            "grid_auto_flow": null,
            "grid_area": null,
            "grid_template_columns": null,
            "flex": null,
            "_model_name": "LayoutModel",
            "justify_items": null,
            "grid_row": null,
            "max_height": null,
            "align_content": null,
            "visibility": null,
            "align_self": null,
            "height": null,
            "min_height": null,
            "padding": null,
            "grid_auto_rows": null,
            "grid_gap": null,
            "max_width": null,
            "order": null,
            "_view_module_version": "1.2.0",
            "grid_template_areas": null,
            "object_position": null,
            "object_fit": null,
            "grid_auto_columns": null,
            "margin": null,
            "display": null,
            "left": null
          }
        },
        "d1e71b31cadc4a44b7c937d704c68a7d": {
          "model_module": "@jupyter-widgets/controls",
          "model_name": "ToggleButtonsModel",
          "model_module_version": "1.5.0",
          "state": {
            "_options_labels": [
              "a",
              "b",
              "c",
              "d"
            ],
            "_view_name": "ToggleButtonsView",
            "style": "IPY_MODEL_7a78b2d4cbbb42d7a72a8c70340e9e5b",
            "_dom_classes": [],
            "description": "",
            "_model_name": "ToggleButtonsModel",
            "tooltips": [
              "'return",
              " 'begin",
              " 'end",
              " 'def'"
            ],
            "index": null,
            "button_style": "",
            "_view_module": "@jupyter-widgets/controls",
            "_model_module_version": "1.5.0",
            "_view_count": null,
            "disabled": false,
            "_view_module_version": "1.5.0",
            "icons": [],
            "description_tooltip": null,
            "_model_module": "@jupyter-widgets/controls",
            "layout": "IPY_MODEL_fa489d8d0175445aabbe361c8ed454b6"
          }
        },
        "7a78b2d4cbbb42d7a72a8c70340e9e5b": {
          "model_module": "@jupyter-widgets/controls",
          "model_name": "ToggleButtonsStyleModel",
          "model_module_version": "1.5.0",
          "state": {
            "_view_name": "StyleView",
            "button_width": "",
            "_model_name": "ToggleButtonsStyleModel",
            "description_width": "",
            "_view_module": "@jupyter-widgets/base",
            "_model_module_version": "1.5.0",
            "_view_count": null,
            "font_weight": "",
            "_view_module_version": "1.2.0",
            "_model_module": "@jupyter-widgets/controls"
          }
        },
        "fa489d8d0175445aabbe361c8ed454b6": {
          "model_module": "@jupyter-widgets/base",
          "model_name": "LayoutModel",
          "model_module_version": "1.2.0",
          "state": {
            "_view_name": "LayoutView",
            "grid_template_rows": null,
            "right": null,
            "justify_content": null,
            "_view_module": "@jupyter-widgets/base",
            "overflow": null,
            "_model_module_version": "1.2.0",
            "_view_count": null,
            "flex_flow": null,
            "width": null,
            "min_width": null,
            "border": null,
            "align_items": null,
            "bottom": null,
            "_model_module": "@jupyter-widgets/base",
            "top": null,
            "grid_column": null,
            "overflow_y": null,
            "overflow_x": null,
            "grid_auto_flow": null,
            "grid_area": null,
            "grid_template_columns": null,
            "flex": null,
            "_model_name": "LayoutModel",
            "justify_items": null,
            "grid_row": null,
            "max_height": null,
            "align_content": null,
            "visibility": null,
            "align_self": null,
            "height": null,
            "min_height": null,
            "padding": null,
            "grid_auto_rows": null,
            "grid_gap": null,
            "max_width": null,
            "order": null,
            "_view_module_version": "1.2.0",
            "grid_template_areas": null,
            "object_position": null,
            "object_fit": null,
            "grid_auto_columns": null,
            "margin": null,
            "display": null,
            "left": null
          }
        },
        "2e8ff479de2344b6a2ec913de76ebbdc": {
          "model_module": "@jupyter-widgets/controls",
          "model_name": "ButtonModel",
          "model_module_version": "1.5.0",
          "state": {
            "_view_name": "ButtonView",
            "style": "IPY_MODEL_3b03611d354948339d11e08c46e4facb",
            "_dom_classes": [],
            "description": "Проверить",
            "_model_name": "ButtonModel",
            "button_style": "success",
            "_view_module": "@jupyter-widgets/controls",
            "_model_module_version": "1.5.0",
            "tooltip": "Проверить",
            "_view_count": null,
            "disabled": false,
            "_view_module_version": "1.5.0",
            "layout": "IPY_MODEL_79f01df603624c608e854f93bc6ef4bb",
            "_model_module": "@jupyter-widgets/controls",
            "icon": "search"
          }
        },
        "3b03611d354948339d11e08c46e4facb": {
          "model_module": "@jupyter-widgets/controls",
          "model_name": "ButtonStyleModel",
          "model_module_version": "1.5.0",
          "state": {
            "_view_name": "StyleView",
            "_model_name": "ButtonStyleModel",
            "_view_module": "@jupyter-widgets/base",
            "_model_module_version": "1.5.0",
            "_view_count": null,
            "button_color": null,
            "font_weight": "",
            "_view_module_version": "1.2.0",
            "_model_module": "@jupyter-widgets/controls"
          }
        },
        "79f01df603624c608e854f93bc6ef4bb": {
          "model_module": "@jupyter-widgets/base",
          "model_name": "LayoutModel",
          "model_module_version": "1.2.0",
          "state": {
            "_view_name": "LayoutView",
            "grid_template_rows": null,
            "right": null,
            "justify_content": null,
            "_view_module": "@jupyter-widgets/base",
            "overflow": null,
            "_model_module_version": "1.2.0",
            "_view_count": null,
            "flex_flow": null,
            "width": null,
            "min_width": null,
            "border": null,
            "align_items": null,
            "bottom": null,
            "_model_module": "@jupyter-widgets/base",
            "top": null,
            "grid_column": null,
            "overflow_y": null,
            "overflow_x": null,
            "grid_auto_flow": null,
            "grid_area": null,
            "grid_template_columns": null,
            "flex": null,
            "_model_name": "LayoutModel",
            "justify_items": null,
            "grid_row": null,
            "max_height": null,
            "align_content": null,
            "visibility": null,
            "align_self": null,
            "height": null,
            "min_height": null,
            "padding": null,
            "grid_auto_rows": null,
            "grid_gap": null,
            "max_width": null,
            "order": null,
            "_view_module_version": "1.2.0",
            "grid_template_areas": null,
            "object_position": null,
            "object_fit": null,
            "grid_auto_columns": null,
            "margin": null,
            "display": "block",
            "left": null
          }
        }
      }
    }
  },
  "cells": [
    {
      "cell_type": "markdown",
      "metadata": {
        "id": "view-in-github",
        "colab_type": "text"
      },
      "source": [
        "<a href=\"https://colab.research.google.com/github/AIexndr/API/blob/uii-base-python/2%20%D0%91%D0%B0%D0%B7%D0%BE%D0%B2%D1%8B%D0%B9_%D0%B1%D0%BB%D0%BE%D0%BA_%7C_%D0%A1%D0%B8%D0%BD%D1%82%D0%B0%D0%BA%D1%81%D0%B8%D1%81_Python_%7C_%D0%94%D0%97_Ultra_Lite_(%D0%A2%D0%B5%D1%81%D1%82%D0%B8%D1%80%D0%BE%D0%B2%D0%B0%D0%BD%D0%B8%D0%B5)_%7C_%D0%A3%D0%98%D0%98.ipynb\" target=\"_parent\"><img src=\"https://colab.research.google.com/assets/colab-badge.svg\" alt=\"Open In Colab\"/></a>"
      ]
    },
    {
      "cell_type": "markdown",
      "source": [
        "<h1> <b> Инстуркция для сдачи домашнего задания «УльтраЛайт» </b> </h1>\n",
        "<p> <ul>\n",
        "<li> Запустите ячейку Установка инструментов». <br><i> (Начнется процесс установки необходимых инструментов, который займет несколько секунд)</i> </li>\n",
        "<li> Нажмите кнопку «Тестирование» </li>\n",
        "<li> При первом запуске появится окошко авторизации. <br> Введите свой логин (email) от учебной платформы и нажмите на кнопку «Приступить» </li>\n",
        "<li> После успешной авторизации появится тест из 10 вопросов <br> <i>Не забудьте прокрурить ползунок вверх, чтобы увидеть первые вопросы :) </i> </i>\n",
        "<li> Выберите по одному варианту ответа в каждом вопросе и нажмите кнопку «Проверить» </i>\n",
        "<li> После получения результата Вы можете пересдать тест или зачесть полученные баллы <i>(соответствующие кнопки «Пересдать» и «Зачесть ДЗ») </i> </li>\n",
        "<p> P.s. Вы можете в любой момент вернуться и пересдать домашнее задание для получения более высоких баллов\n",
        "<p> Успехов!"
      ],
      "metadata": {
        "id": "dB9Zs5moSNuA"
      }
    },
    {
      "cell_type": "code",
      "source": [
        "#@title Установка инструментов\n",
        "!rm -rf sample_data\n",
        "!rm -rf terraai\n",
        "!git clone -q https://github.com/gitterra/terrai-self-checking-homework terraai\n",
        "from terraai import autocheck\n",
        "worker = autocheck.Worker(11461, globals())"
      ],
      "metadata": {
        "id": "qL72bgDmxhbC"
      },
      "execution_count": 1,
      "outputs": []
    },
    {
      "cell_type": "code",
      "source": [
        "#@title Тестирование\n",
        "from IPython.display import Javascript\n",
        "worker.start()\n",
        "display(Javascript('''google.colab.output.setIframeHeight(0, true, {maxHeight: 5000})'''))"
      ],
      "metadata": {
        "id": "lxGv5JjDzVzH",
        "colab": {
          "base_uri": "https://localhost:8080/",
          "height": 2462,
          "referenced_widgets": [
            "c6da322361e04abcbd3cea1d0a5b82cb",
            "aab9ee03e6da4e7ca8efc109683ad25c",
            "416ef88fa076465bbb6be9ac56f4bea1",
            "5dc1139f1c5f430db0b6445605fd3091",
            "3a3bfc7d1a1c4d97b623776593046e9b",
            "b6fe323482c34c5b8c5b1a01eeb25862",
            "f1d1175cbf744df7b11500e3ec6bcba0",
            "86840f4f165c4a19b4c8a7c93a97a1d0",
            "ef1520104b984593b174c3e3e511dddd",
            "2d7c00c37bf84373b49437566cfddeba",
            "f7aa50be06e24b0b82dc0c0cc856706a",
            "0cbb170367fa4c22a62856e25ccb2391",
            "a3df45a21e24402197781f0205b0ebda",
            "2e72bcbe0f4c414a8aa8d33b6ef233c6",
            "518452edb7cf4d06b4aee5b51bde296a",
            "420a808b08054d1c91f2ec7ac8c52051",
            "35048200f08b422eae2c960f372b7ec3",
            "e1e6e939985b4dd9bfb1423faea0ad64",
            "eb660da2d726404ba310ec953483daac",
            "09b6582b945544cba9f6f611dd4b0685",
            "31d57bf43bf348cc855d29aca75ea0bb",
            "90a6ce0f177841e98065004ed1e0cf7d",
            "5da110ed0e1641818e3b49d83485cbb5",
            "13c5313bcfeb46128e6d38171fa9bf8c",
            "3106abb587924568a74e5b07e5949db1",
            "60f08433a32a4d01a7a54b9f0fa16059",
            "7cf619af3c224176862db4e83840930d",
            "4792a815e7074ff9a145039bfea75009",
            "64c5753a327243e1b9f29489bd86553c",
            "6fdc36f16cd341eda31317a8930de11e",
            "d0bf1c139795479f80b38a3e01e59368",
            "4c142cf582b444b38178030d85f736e6",
            "1607d48469f74f0d81a3efc83925793a",
            "d1e71b31cadc4a44b7c937d704c68a7d",
            "7a78b2d4cbbb42d7a72a8c70340e9e5b",
            "fa489d8d0175445aabbe361c8ed454b6",
            "2e8ff479de2344b6a2ec913de76ebbdc",
            "3b03611d354948339d11e08c46e4facb",
            "79f01df603624c608e854f93bc6ef4bb"
          ]
        },
        "outputId": "5538b103-ec39-4371-adf0-4ef63d7b13e2"
      },
      "execution_count": 2,
      "outputs": [
        {
          "output_type": "stream",
          "name": "stdout",
          "text": [
            "\u001b[1mВопрос №1: \n",
            "Какие значения могут принимать переменные типа float?:\u001b[0m\n",
            "\n",
            "\n",
            "      a) дробные числа\n",
            "      b) целые числа\n",
            "      c) символьные данные\n",
            "      d) True или False\n"
          ]
        },
        {
          "output_type": "display_data",
          "data": {
            "application/vnd.jupyter.widget-view+json": {
              "model_id": "f1d1175cbf744df7b11500e3ec6bcba0",
              "version_minor": 0,
              "version_major": 2
            },
            "text/plain": [
              "ToggleButtons(options=('a', 'b', 'c', 'd'), tooltips=(\"'дробные числа\", \" 'целые числа\", \" 'символьные данные\"…"
            ]
          },
          "metadata": {}
        },
        {
          "output_type": "stream",
          "name": "stdout",
          "text": [
            "\n",
            "\n",
            "\n",
            "\n",
            "\u001b[1mВопрос №2: \n",
            "В каком из пречисленных вариантов имя переменной задано с ошибкой?:\u001b[0m\n",
            "\n",
            "\n",
            "      a) qwerty\n",
            "      b) _value\n",
            "      c) 21_years\n",
            "      d) ngjfdhdyeld\n"
          ]
        },
        {
          "output_type": "display_data",
          "data": {
            "application/vnd.jupyter.widget-view+json": {
              "model_id": "2d7c00c37bf84373b49437566cfddeba",
              "version_minor": 0,
              "version_major": 2
            },
            "text/plain": [
              "ToggleButtons(options=('a', 'b', 'c', 'd'), tooltips=(\"'qwerty\", \" '_value\", \" '21_years\", \" 'ngjfdhdyeld'\"), …"
            ]
          },
          "metadata": {}
        },
        {
          "output_type": "stream",
          "name": "stdout",
          "text": [
            "\n",
            "\n",
            "\n",
            "\n",
            "\u001b[1mВопрос №3: \n",
            "С помощью какого метода можно добавить элемент в конец списка?:\u001b[0m\n",
            "\n",
            "\n",
            "      a) .pop()\n",
            "      b) .remove()\n",
            "      c) .plus()\n",
            "      d) .append()\n"
          ]
        },
        {
          "output_type": "display_data",
          "data": {
            "application/vnd.jupyter.widget-view+json": {
              "model_id": "a3df45a21e24402197781f0205b0ebda",
              "version_minor": 0,
              "version_major": 2
            },
            "text/plain": [
              "ToggleButtons(options=('a', 'b', 'c', 'd'), tooltips=(\"'.pop()\", \" '.remove()\", \" '.plus()\", \" '.append()'\"), …"
            ]
          },
          "metadata": {}
        },
        {
          "output_type": "stream",
          "name": "stdout",
          "text": [
            "\n",
            "\n",
            "\n",
            "\n",
            "\u001b[1mВопрос №4: \n",
            "С помощью какой конструкции можно создать пустой словарь?:\u001b[0m\n",
            "\n",
            "\n",
            "      a) my_dict=()\n",
            "      b) my_dict=[]\n",
            "      c) my_dict={}\n",
            "      d) my_dict=\"\"\n"
          ]
        },
        {
          "output_type": "display_data",
          "data": {
            "application/vnd.jupyter.widget-view+json": {
              "model_id": "420a808b08054d1c91f2ec7ac8c52051",
              "version_minor": 0,
              "version_major": 2
            },
            "text/plain": [
              "ToggleButtons(options=('a', 'b', 'c', 'd'), tooltips=(\"'my_dict=()\", \" 'my_dict=[]\", \" 'my_dict={}\", ' \\'my_di…"
            ]
          },
          "metadata": {}
        },
        {
          "output_type": "stream",
          "name": "stdout",
          "text": [
            "\n",
            "\n",
            "\n",
            "\n",
            "\u001b[1mВопрос №5: \n",
            "Сколько повторений (итераций) выполнится в цикле: for i in range(5)?:\u001b[0m\n",
            "\n",
            "\n",
            "      a) 4\n",
            "      b) 5\n",
            "      c) 6\n",
            "      d) 1\n"
          ]
        },
        {
          "output_type": "display_data",
          "data": {
            "application/vnd.jupyter.widget-view+json": {
              "model_id": "eb660da2d726404ba310ec953483daac",
              "version_minor": 0,
              "version_major": 2
            },
            "text/plain": [
              "ToggleButtons(options=('a', 'b', 'c', 'd'), tooltips=(\"'4\", \" '5\", \" '6\", \" '1'\"), value=None)"
            ]
          },
          "metadata": {}
        },
        {
          "output_type": "stream",
          "name": "stdout",
          "text": [
            "\n",
            "\n",
            "\n",
            "\n",
            "\u001b[1mВопрос №6: \n",
            "Как работает функция print()?:\u001b[0m\n",
            "\n",
            "\n",
            "      a) Просит пользователя ввести информацию с клавиатуры\n",
            "      b) Выводит информацию на экран\n",
            "      c) Создает список печатных символов\n",
            "      d) Создает цикл\n"
          ]
        },
        {
          "output_type": "display_data",
          "data": {
            "application/vnd.jupyter.widget-view+json": {
              "model_id": "90a6ce0f177841e98065004ed1e0cf7d",
              "version_minor": 0,
              "version_major": 2
            },
            "text/plain": [
              "ToggleButtons(options=('a', 'b', 'c', 'd'), tooltips=(\"'Просит пользователя ввести информацию с клавиатуры\", \"…"
            ]
          },
          "metadata": {}
        },
        {
          "output_type": "stream",
          "name": "stdout",
          "text": [
            "\n",
            "\n",
            "\n",
            "\n",
            "\u001b[1mВопрос №7: \n",
            "С помощью какого символа можно выполнить операцию: «получение остатка от деления»?:\u001b[0m\n",
            "\n",
            "\n",
            "      a) /\n",
            "      b) *\n",
            "      c) %\n",
            "      d) ^\n"
          ]
        },
        {
          "output_type": "display_data",
          "data": {
            "application/vnd.jupyter.widget-view+json": {
              "model_id": "3106abb587924568a74e5b07e5949db1",
              "version_minor": 0,
              "version_major": 2
            },
            "text/plain": [
              "ToggleButtons(options=('a', 'b', 'c', 'd'), tooltips=(\"'/\", \" '*\", \" '%\", \" '^'\"), value=None)"
            ]
          },
          "metadata": {}
        },
        {
          "output_type": "stream",
          "name": "stdout",
          "text": [
            "\n",
            "\n",
            "\n",
            "\n",
            "\u001b[1mВопрос №8: \n",
            "Переменная a=10, переменная b=5+5. Что будет результатом выражения: a!=b?:\u001b[0m\n",
            "\n",
            "\n",
            "      a) 0\n",
            "      b) True\n",
            "      c) 10\n",
            "      d) False\n"
          ]
        },
        {
          "output_type": "display_data",
          "data": {
            "application/vnd.jupyter.widget-view+json": {
              "model_id": "4792a815e7074ff9a145039bfea75009",
              "version_minor": 0,
              "version_major": 2
            },
            "text/plain": [
              "ToggleButtons(options=('a', 'b', 'c', 'd'), tooltips=(\"'0\", \" 'True\", \" '10\", \" 'False'\"), value=None)"
            ]
          },
          "metadata": {}
        },
        {
          "output_type": "stream",
          "name": "stdout",
          "text": [
            "\n",
            "\n",
            "\n",
            "\n",
            "\u001b[1mВопрос №9: \n",
            "Можно ли заменить значение элемента кортежа?:\u001b[0m\n",
            "\n",
            "\n",
            "      a) Можно в любом случае\n",
            "      b) Можно, но только значение последнего элемента\n",
            "      c) Нельзя\n",
            "      d) Можно, но только на значение того же самого типа данных\n"
          ]
        },
        {
          "output_type": "display_data",
          "data": {
            "application/vnd.jupyter.widget-view+json": {
              "model_id": "d0bf1c139795479f80b38a3e01e59368",
              "version_minor": 0,
              "version_major": 2
            },
            "text/plain": [
              "ToggleButtons(options=('a', 'b', 'c', 'd'), tooltips=(\"'Можно в любом случае\", \" 'Можно, но только значение по…"
            ]
          },
          "metadata": {}
        },
        {
          "output_type": "stream",
          "name": "stdout",
          "text": [
            "\n",
            "\n",
            "\n",
            "\n",
            "\u001b[1mВопрос №10: \n",
            "Какая команда используется для возвращения результата работы функции?:\u001b[0m\n",
            "\n",
            "\n",
            "      a) return\n",
            "      b) begin\n",
            "      c) end\n",
            "      d) def\n"
          ]
        },
        {
          "output_type": "display_data",
          "data": {
            "application/vnd.jupyter.widget-view+json": {
              "model_id": "d1e71b31cadc4a44b7c937d704c68a7d",
              "version_minor": 0,
              "version_major": 2
            },
            "text/plain": [
              "ToggleButtons(options=('a', 'b', 'c', 'd'), tooltips=(\"'return\", \" 'begin\", \" 'end\", \" 'def'\"), value=None)"
            ]
          },
          "metadata": {}
        },
        {
          "output_type": "stream",
          "name": "stdout",
          "text": [
            "\n",
            "\n",
            "\n",
            "\n"
          ]
        },
        {
          "output_type": "display_data",
          "data": {
            "application/vnd.jupyter.widget-view+json": {
              "model_id": "2e8ff479de2344b6a2ec913de76ebbdc",
              "version_minor": 0,
              "version_major": 2
            },
            "text/plain": [
              "Button(button_style='success', description='Проверить', icon='search', layout=Layout(display='block'), style=B…"
            ]
          },
          "metadata": {}
        }
      ]
    }
  ]
}