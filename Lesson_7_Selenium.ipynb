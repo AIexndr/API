{
  "nbformat": 4,
  "nbformat_minor": 0,
  "metadata": {
    "colab": {
      "name": "Lesson 7 Selenium.ipynb",
      "provenance": [],
      "authorship_tag": "ABX9TyN6tUQ+Zdpa7KfjG/Bqcq29",
      "include_colab_link": true
    },
    "kernelspec": {
      "name": "python3",
      "display_name": "Python 3"
    },
    "language_info": {
      "name": "python"
    }
  },
  "cells": [
    {
      "cell_type": "markdown",
      "metadata": {
        "id": "view-in-github",
        "colab_type": "text"
      },
      "source": [
        "<a href=\"https://colab.research.google.com/github/AIexndr/API/blob/main/Lesson_7_Selenium.ipynb\" target=\"_parent\"><img src=\"https://colab.research.google.com/assets/colab-badge.svg\" alt=\"Open In Colab\"/></a>"
      ]
    },
    {
      "cell_type": "code",
      "metadata": {
        "id": "e_hTpwsry7tt"
      },
      "source": [
        "\"\"\"\n",
        "Lesson 7. Selenium\n",
        "\"\"\"\n",
        "\n",
        "from selenium import webdriver\n",
        "from selenium.webdriver.common.keys import Keys\n",
        "from pprint import pprint\n",
        "from pymongo import MongoClient\n",
        "import json\n",
        "\n",
        "from selenium.webdriver.chrome.options import Options\n",
        "from selenium.webdriver.support.ui import WebDriverWait\n",
        "from selenium.webdriver.support import expected_conditions as EC\n",
        "from selenium.webdriver.common.by import By\n",
        "\n",
        "config = Options()\n",
        "config.add_argument('start-maximized')\n",
        "driver = webdriver.Chrome(options=config)\n",
        "driver.get('https://www.mvideo.ru/')\n",
        "assert \"М.Видео - \" in driver.title\n",
        "data =[]\n",
        "while data == []:\n",
        "    elems = WebDriverWait(driver, 10).until(\n",
        "        EC.presence_of_all_elements_located((By.XPATH, \"//div[@class='gallery-layout']\")))\n",
        "    for elem in elems:\n",
        "        if elem.find_element_by_class_name('h2').text == 'Хиты продаж':\n",
        "            while True:\n",
        "                try:\n",
        "                    knopka = elem.find_element_by_class_name('sel-hits-button-next')\n",
        "                    knopka.click()\n",
        "                except:\n",
        "                    try:\n",
        "                        okno = driver.find_element_by_class_name('tooltipster-close')\n",
        "                        okno.click()\n",
        "                        break\n",
        "                    except:\n",
        "                        knopka = elem.find_element_by_class_name('sel-hits-button-next')\n",
        "                        knopka.click()\n",
        "                try:\n",
        "                    elem.find_element_by_xpath(\"//a[@class='next-btn sel-hits-button-next disabled']\")\n",
        "                    break\n",
        "                except:\n",
        "                    pass\n",
        "            products = elem.find_elements_by_class_name('sel-product-tile-title')\n",
        "            for product in products:\n",
        "                data_product = product.find_element_by_xpath(\"//a[@data-product-info]\").get_attribute('data-product-info')\n",
        "                jdata = json.loads(data_product)\n",
        "                data.append(jdata)\n",
        "\n",
        "client = MongoClient('localhost', 27017)\n",
        "db = client['selenium_mvideo']\n",
        "collection = db.mvideo\n",
        "collection.insert_many(data)\n",
        "print('Хиты продаж: ')\n",
        "pprint(data)"
      ],
      "execution_count": null,
      "outputs": []
    }
  ]
}