{
  "nbformat": 4,
  "nbformat_minor": 0,
  "metadata": {
    "colab": {
      "name": "Лекция -1 API ДЗ--3",
      "provenance": [],
      "authorship_tag": "ABX9TyPusbGRiiRoSLivPpAc89Q8",
      "include_colab_link": true
    },
    "kernelspec": {
      "name": "python3",
      "display_name": "Python 3"
    },
    "language_info": {
      "name": "python"
    }
  },
  "cells": [
    {
      "cell_type": "markdown",
      "metadata": {
        "id": "view-in-github",
        "colab_type": "text"
      },
      "source": [
        "<a href=\"https://colab.research.google.com/github/AIexndr/API/blob/main/%D0%9B%D0%B5%D0%BA%D1%86%D0%B8%D1%8F_1_API_%D0%94%D0%97_3.ipynb\" target=\"_parent\"><img src=\"https://colab.research.google.com/assets/colab-badge.svg\" alt=\"Open In Colab\"/></a>"
      ]
    },
    {
      "cell_type": "code",
      "metadata": {
        "id": "9FuB4iW1MqPg"
      },
      "source": [
        "import requests\n",
        "import json\n",
        "url =  'https://api.kanye.rest/'\n",
        "response = requests.get(url).json()\n",
        "#print (response['quote'])\n",
        "jokes=[]\n",
        "for i in range (1,1001):\n",
        "    response = requests.get(url).json()\n",
        "    kanye = {\n",
        "        'No': i,\n",
        "        'Joke':response['quote']\n",
        "    }\n",
        "    print(kanye)\n",
        "    jokes.append(kanye)"
      ],
      "execution_count": null,
      "outputs": []
    },
    {
      "cell_type": "code",
      "metadata": {
        "id": "ZCeAjwLscgB1"
      },
      "source": [
        "with open('jokes.json', 'w') as fp:\n",
        "    json.dump(jokes, fp)"
      ],
      "execution_count": 3,
      "outputs": []
    }
  ]
}