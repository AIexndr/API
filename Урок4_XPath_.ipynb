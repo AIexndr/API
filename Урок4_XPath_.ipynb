{
  "nbformat": 4,
  "nbformat_minor": 0,
  "metadata": {
    "colab": {
      "name": "Урок4  XPath .ipynb",
      "provenance": [],
      "collapsed_sections": [],
      "authorship_tag": "ABX9TyMFA5viayvQ/kWNRJZXoUxG",
      "include_colab_link": true
    },
    "kernelspec": {
      "name": "python3",
      "display_name": "Python 3"
    },
    "language_info": {
      "name": "python"
    }
  },
  "cells": [
    {
      "cell_type": "markdown",
      "metadata": {
        "id": "view-in-github",
        "colab_type": "text"
      },
      "source": [
        "<a href=\"https://colab.research.google.com/github/AIexndr/API/blob/main/%D0%A3%D1%80%D0%BE%D0%BA4_XPath_.ipynb\" target=\"_parent\"><img src=\"https://colab.research.google.com/assets/colab-badge.svg\" alt=\"Open In Colab\"/></a>"
      ]
    },
    {
      "cell_type": "code",
      "metadata": {
        "colab": {
          "base_uri": "https://localhost:8080/"
        },
        "id": "_THYA94ByPmT",
        "outputId": "342ae422-b62c-431e-c84e-192a88293ba7"
      },
      "source": [
        "from pprint import pprint\n",
        "from lxml import html\n",
        "import requests\n",
        "\n",
        "\n",
        "class LentaRuParser:\n",
        "    host = 'https://lenta.ru'\n",
        "    headers = {'User-Agent': 'Mozilla/5.0 (Windows NT 10.0; Win64; x64) ' +\n",
        "                             'AppleWebKit/537.36 (KHTML, like Gecko) Chrome/86.0.4240.75 Safari/537.36'}\n",
        "\n",
        "    def parse(self) -> list:\n",
        "        news_list = []\n",
        "        response = requests.get(self.host, headers=self.headers)\n",
        "        dom = html.fromstring(response.text)\n",
        "        news_elements = dom.xpath(\"//section[contains(@class,'js-top-seven')]//div[@class='item']\")\n",
        "        for element in news_elements:\n",
        "            news = {\n",
        "                'title': str(element.xpath(\"./a/text()\")[0]),\n",
        "                'url':  self.host + str(element.xpath(\"./a/@href\")[0]),\n",
        "                'source': 'LENTA_RU',\n",
        "                'publication_date': str(element.xpath(\"./a/time/@datetime\")[0])\n",
        "            }\n",
        "            news_list.append(news)\n",
        "        return news_list\n",
        "\n",
        "\n",
        "if __name__ == '__main__':\n",
        "    parser = LentaRuParser()\n",
        "    news_result = parser.parse()\n",
        "    pprint(news_result)"
      ],
      "execution_count": 1,
      "outputs": [
        {
          "output_type": "stream",
          "text": [
            "[{'publication_date': ' 19:19,  1 июня 2021',\n",
            "  'source': 'LENTA_RU',\n",
            "  'title': 'Мошенники попытались обмануть россиян с\\xa0помощью сайтов по\\xa0'\n",
            "           'продаже ответов на\\xa0ЕГЭ',\n",
            "  'url': 'https://lenta.ru/news/2021/06/01/ege/'},\n",
            " {'publication_date': ' 19:18,  1 июня 2021',\n",
            "  'source': 'LENTA_RU',\n",
            "  'title': 'В США решили спасти планету продажей дорогих яиц',\n",
            "  'url': 'https://lenta.ru/news/2021/06/01/usaeggs/'},\n",
            " {'publication_date': ' 19:15,  1 июня 2021',\n",
            "  'source': 'LENTA_RU',\n",
            "  'title': 'В Москве обокрали сидевшего рядом с\\xa0Путиным на\\xa0параде '\n",
            "           'ветерана',\n",
            "  'url': 'https://lenta.ru/news/2021/06/01/veteran_kraza/'},\n",
            " {'publication_date': ' 19:09,  1 июня 2021',\n",
            "  'source': 'LENTA_RU',\n",
            "  'title': 'Один из\\xa0основателей Black Lives Matter раскрыл «уродливую '\n",
            "           'правду» о\\xa0движении',\n",
            "  'url': 'https://lenta.ru/news/2021/06/01/blm_truth/'},\n",
            " {'publication_date': ' 19:07,  1 июня 2021',\n",
            "  'source': 'LENTA_RU',\n",
            "  'title': 'Назван процент давно не\\xa0бывавших в\\xa0отпуске россиян',\n",
            "  'url': 'https://lenta.ru/news/2021/06/01/otstanteyarabotayu/'},\n",
            " {'publication_date': ' 19:07,  1 июня 2021',\n",
            "  'source': 'LENTA_RU',\n",
            "  'title': 'Нурмагомедову предложили 400\\xa0миллионов рублей за\\xa0прощальный '\n",
            "           'бой в\\xa0Чечне',\n",
            "  'url': 'https://lenta.ru/news/2021/06/01/khabib/'},\n",
            " {'publication_date': ' 19:04,  1 июня 2021',\n",
            "  'source': 'LENTA_RU',\n",
            "  'title': 'Адвокат Протасевича объяснила ссадину на\\xa0его лице',\n",
            "  'url': 'https://lenta.ru/news/2021/06/01/protasevich/'},\n",
            " {'publication_date': ' 19:03,  1 июня 2021',\n",
            "  'source': 'LENTA_RU',\n",
            "  'title': '«ВКонтакте» создала стикеры ко\\xa0Дню защиты детей',\n",
            "  'url': 'https://lenta.ru/news/2021/06/01/zashita_children/'},\n",
            " {'publication_date': ' 18:51,  1 июня 2021',\n",
            "  'source': 'LENTA_RU',\n",
            "  'title': 'В Европе рекордно выросли цены',\n",
            "  'url': 'https://lenta.ru/news/2021/06/01/upp/'}]\n"
          ],
          "name": "stdout"
        }
      ]
    }
  ]
}